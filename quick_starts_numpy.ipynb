{
 "cells": [
  {
   "cell_type": "code",
   "execution_count": null,
   "id": "b75b5723",
   "metadata": {
    "tags": []
   },
   "outputs": [],
   "source": [
    "# standard way to import the NumPy module\n",
    "import numpy as np"
   ]
  },
  {
   "cell_type": "markdown",
   "id": "2f7ae0ba",
   "metadata": {
    "tags": []
   },
   "source": [
    "# Array creation"
   ]
  },
  {
   "cell_type": "markdown",
   "id": "0b341f91-5f86-4dcf-be22-ade4687e3ccd",
   "metadata": {
    "tags": []
   },
   "source": [
    "## Solution"
   ]
  },
  {
   "cell_type": "code",
   "execution_count": null,
   "id": "7af61953",
   "metadata": {
    "tags": []
   },
   "outputs": [],
   "source": [
    "a = np.arange(12).reshape(3,4)\n",
    "print(a)"
   ]
  },
  {
   "cell_type": "code",
   "execution_count": null,
   "id": "90c96587",
   "metadata": {
    "tags": []
   },
   "outputs": [],
   "source": [
    "b = np.random.random(12).reshape(3,4)\n",
    "print(b)"
   ]
  },
  {
   "cell_type": "code",
   "execution_count": null,
   "id": "cc84ec11",
   "metadata": {
    "tags": []
   },
   "outputs": [],
   "source": [
    "c = np.ones(12).reshape(3,4)\n",
    "print(c)"
   ]
  },
  {
   "cell_type": "code",
   "execution_count": null,
   "id": "e853633f",
   "metadata": {
    "tags": []
   },
   "outputs": [],
   "source": [
    "d = np.zeros(12).reshape(3,4)\n",
    "print(d)"
   ]
  },
  {
   "cell_type": "code",
   "execution_count": null,
   "id": "84d4af88",
   "metadata": {
    "tags": []
   },
   "outputs": [],
   "source": [
    "e = np.eye(3,4)\n",
    "print(e)"
   ]
  },
  {
   "cell_type": "code",
   "execution_count": null,
   "id": "8640c10b",
   "metadata": {
    "tags": []
   },
   "outputs": [],
   "source": [
    "f = np.linspace(0,2*np.pi,100)\n",
    "print(f)"
   ]
  },
  {
   "cell_type": "markdown",
   "id": "e9b55571-7589-47b9-9bc3-6a668a391e7b",
   "metadata": {
    "tags": []
   },
   "source": [
    "## Practice"
   ]
  },
  {
   "cell_type": "code",
   "execution_count": null,
   "id": "c6a429b4-ac38-4e2b-b019-9309a13b8db4",
   "metadata": {},
   "outputs": [],
   "source": [
    "a = np.arange(12).reshape(3,-1)\n",
    "print(a)"
   ]
  },
  {
   "cell_type": "code",
   "execution_count": null,
   "id": "c88e6345-0755-4e2a-a7e4-2382b109ad82",
   "metadata": {},
   "outputs": [],
   "source": [
    "a = np.random.random(12).reshape(3,-1)\n",
    "print(a)"
   ]
  },
  {
   "cell_type": "code",
   "execution_count": null,
   "id": "85d60f98-41ca-407a-943a-76feb566c281",
   "metadata": {},
   "outputs": [],
   "source": [
    "a = np.ones(12).reshape(3,-1)\n",
    "print(a)"
   ]
  },
  {
   "cell_type": "code",
   "execution_count": null,
   "id": "04650a11-4fb4-4539-b3df-54f86e1ff764",
   "metadata": {},
   "outputs": [],
   "source": [
    "a = np.zeros(12).reshape(3,-1)\n",
    "print(a)"
   ]
  },
  {
   "cell_type": "code",
   "execution_count": null,
   "id": "4be00bde-1602-4d9d-b4b6-d4073d143e34",
   "metadata": {},
   "outputs": [],
   "source": [
    "a = np.eye(3,4)\n",
    "print(a)"
   ]
  },
  {
   "cell_type": "code",
   "execution_count": null,
   "id": "6586b644-989e-45f4-8586-a70934f63351",
   "metadata": {},
   "outputs": [],
   "source": [
    "a = np.linspace(0,2*np.pi,12).reshape(3,-1)\n",
    "print(a)"
   ]
  },
  {
   "cell_type": "code",
   "execution_count": null,
   "id": "d2f8738b-7468-4e19-adbc-59a75a5978c1",
   "metadata": {},
   "outputs": [],
   "source": [
    "# import matplotlib.pyplot as plt\n",
    "# N = 8\n",
    "# x1 = np.linspace(0,N,10, endpoint = True)\n",
    "# x2 = np.linspace(0,N,10, endpoint = False)\n",
    "# y  = np.zeros(10)\n",
    "# plt.plot(x1,y,'o')\n",
    "# plt.plot(x2,y+0.05,'o')\n",
    "# plt.ylim([-0.1,0.1])\n",
    "# plt.show()"
   ]
  },
  {
   "cell_type": "code",
   "execution_count": null,
   "id": "7d76df94-467f-4131-b934-118e50026d8e",
   "metadata": {
    "jupyter": {
     "source_hidden": true
    },
    "tags": []
   },
   "outputs": [],
   "source": [
    "a = np.arange(12).reshape(3,4)\n",
    "a"
   ]
  },
  {
   "cell_type": "code",
   "execution_count": null,
   "id": "1b774d34-87dd-4631-bf58-e7d2fbb11ee7",
   "metadata": {
    "jupyter": {
     "source_hidden": true
    },
    "tags": []
   },
   "outputs": [],
   "source": [
    "a = np.random.random(12).reshape(3,4)\n",
    "a"
   ]
  },
  {
   "cell_type": "code",
   "execution_count": null,
   "id": "d2b47436-58bc-4255-b99d-ebf9349d6244",
   "metadata": {
    "jupyter": {
     "source_hidden": true
    },
    "tags": []
   },
   "outputs": [],
   "source": [
    "a = np.zeros(12).reshape(3,4)\n",
    "a"
   ]
  },
  {
   "cell_type": "code",
   "execution_count": null,
   "id": "e3d0aa44-8b1e-4a3d-84ef-dcb6e0cfc1f7",
   "metadata": {
    "jupyter": {
     "source_hidden": true
    },
    "tags": []
   },
   "outputs": [],
   "source": [
    "a = np.ones(12).reshape(3,4)\n",
    "a"
   ]
  },
  {
   "cell_type": "code",
   "execution_count": null,
   "id": "cb59dd96-488b-4b45-b475-5fd0fd916a7a",
   "metadata": {
    "jupyter": {
     "source_hidden": true
    },
    "tags": []
   },
   "outputs": [],
   "source": [
    "a = np.eye(3,4)\n",
    "a"
   ]
  },
  {
   "cell_type": "code",
   "execution_count": null,
   "id": "341d550b-05ba-44fc-a640-e44534bdb62b",
   "metadata": {
    "jupyter": {
     "source_hidden": true
    },
    "tags": []
   },
   "outputs": [],
   "source": [
    "a = np.linspace(0,11,12).reshape(3,4)\n",
    "a"
   ]
  },
  {
   "cell_type": "markdown",
   "id": "346556ed",
   "metadata": {
    "tags": []
   },
   "source": [
    "# Attributes of NumPy arrays"
   ]
  },
  {
   "cell_type": "markdown",
   "id": "c52c5bea-909c-4bd1-999a-d957a91a1211",
   "metadata": {
    "tags": []
   },
   "source": [
    "## Solution"
   ]
  },
  {
   "cell_type": "code",
   "execution_count": null,
   "id": "79b27e1b",
   "metadata": {
    "tags": []
   },
   "outputs": [],
   "source": [
    "a.ndim, a.shape"
   ]
  },
  {
   "cell_type": "code",
   "execution_count": null,
   "id": "ff84b111",
   "metadata": {
    "tags": []
   },
   "outputs": [],
   "source": [
    "a.size, a.dtype"
   ]
  },
  {
   "cell_type": "markdown",
   "id": "0f15ade6-52b8-4f1e-92d7-cf138134bb0a",
   "metadata": {
    "tags": []
   },
   "source": [
    "## Practice"
   ]
  },
  {
   "cell_type": "code",
   "execution_count": null,
   "id": "c537c933-cd29-45bf-a2d1-312b8b56ba2a",
   "metadata": {},
   "outputs": [],
   "source": [
    "a.ndim, a.shape, "
   ]
  },
  {
   "cell_type": "code",
   "execution_count": null,
   "id": "91198af9-f36b-4a6b-9ae2-f7c79be0b71b",
   "metadata": {},
   "outputs": [],
   "source": [
    "a.size, a.dtype"
   ]
  },
  {
   "cell_type": "code",
   "execution_count": null,
   "id": "028e8737-b284-4443-a8f4-717d6a17c0a9",
   "metadata": {
    "jupyter": {
     "source_hidden": true
    },
    "tags": []
   },
   "outputs": [],
   "source": [
    "a = np.arange(12).reshape(3,4)\n",
    "print(a.ndim, a.shape, a.size, a.dtype)"
   ]
  },
  {
   "cell_type": "markdown",
   "id": "f249cabc",
   "metadata": {
    "tags": []
   },
   "source": [
    "# Indexing and slicing"
   ]
  },
  {
   "cell_type": "markdown",
   "id": "df2a8a12-5003-4312-88cc-14efab4d3832",
   "metadata": {
    "tags": []
   },
   "source": [
    "## Solution"
   ]
  },
  {
   "cell_type": "code",
   "execution_count": null,
   "id": "855cb847",
   "metadata": {
    "jupyter": {
     "source_hidden": true
    }
   },
   "outputs": [],
   "source": [
    "a = np.arange(12).reshape(3,-1)"
   ]
  },
  {
   "cell_type": "code",
   "execution_count": null,
   "id": "01881d9e",
   "metadata": {
    "jupyter": {
     "source_hidden": true
    }
   },
   "outputs": [],
   "source": [
    "a[::2]"
   ]
  },
  {
   "cell_type": "code",
   "execution_count": null,
   "id": "e3416bd1",
   "metadata": {
    "jupyter": {
     "source_hidden": true
    }
   },
   "outputs": [],
   "source": [
    "a[2,...]"
   ]
  },
  {
   "cell_type": "markdown",
   "id": "5b5a9d34-8f66-4ae0-9a66-66807ea802ed",
   "metadata": {
    "tags": []
   },
   "source": [
    "## Practice"
   ]
  },
  {
   "cell_type": "code",
   "execution_count": null,
   "id": "f6f13f17-8252-4b30-898f-d1d49184b0c7",
   "metadata": {
    "jupyter": {
     "source_hidden": true
    }
   },
   "outputs": [],
   "source": [
    "a = np.arange(12).reshape(-1,4)\n",
    "print(a)"
   ]
  },
  {
   "cell_type": "code",
   "execution_count": null,
   "id": "3b457bb7-4464-45ef-908d-aea81f74a64e",
   "metadata": {
    "jupyter": {
     "source_hidden": true
    }
   },
   "outputs": [],
   "source": [
    "print(a[2::])\n",
    "print(a[2,:])\n",
    "print(a[2,...])"
   ]
  },
  {
   "cell_type": "markdown",
   "id": "d320265f",
   "metadata": {
    "tags": []
   },
   "source": [
    "# Shape manipulation"
   ]
  },
  {
   "cell_type": "code",
   "execution_count": null,
   "id": "933fb6de",
   "metadata": {
    "jupyter": {
     "source_hidden": true
    }
   },
   "outputs": [],
   "source": [
    "# x = a.flatten() # changing x won't change a\n",
    "# y = a.ravel()   # changing y will change a\n",
    "# x = a.reshape() # return an array with new shape; a.shape will not change; \n",
    "                  # changing entries of x will change a\n",
    "# a.resize()      # return None; a will change"
   ]
  },
  {
   "cell_type": "markdown",
   "id": "dc5691b7-bed3-4b37-a593-4141b3d1d907",
   "metadata": {
    "jp-MarkdownHeadingCollapsed": true,
    "tags": []
   },
   "source": [
    "## Solution"
   ]
  },
  {
   "cell_type": "code",
   "execution_count": null,
   "id": "a12378ae",
   "metadata": {
    "jupyter": {
     "source_hidden": true
    }
   },
   "outputs": [],
   "source": [
    "a = np.arange(12)"
   ]
  },
  {
   "cell_type": "code",
   "execution_count": null,
   "id": "f574f899",
   "metadata": {
    "jupyter": {
     "source_hidden": true
    },
    "tags": []
   },
   "outputs": [],
   "source": [
    "a"
   ]
  },
  {
   "cell_type": "code",
   "execution_count": null,
   "id": "fc1d2383",
   "metadata": {
    "jupyter": {
     "source_hidden": true
    }
   },
   "outputs": [],
   "source": [
    "x = a.flatten()"
   ]
  },
  {
   "cell_type": "code",
   "execution_count": null,
   "id": "170cd951",
   "metadata": {
    "jupyter": {
     "source_hidden": true
    }
   },
   "outputs": [],
   "source": [
    "x"
   ]
  },
  {
   "cell_type": "code",
   "execution_count": null,
   "id": "3211575f",
   "metadata": {
    "jupyter": {
     "source_hidden": true
    }
   },
   "outputs": [],
   "source": [
    "x[0]=98"
   ]
  },
  {
   "cell_type": "code",
   "execution_count": null,
   "id": "ec04481c",
   "metadata": {
    "jupyter": {
     "source_hidden": true
    }
   },
   "outputs": [],
   "source": [
    "x"
   ]
  },
  {
   "cell_type": "code",
   "execution_count": null,
   "id": "2e50cbd1",
   "metadata": {
    "jupyter": {
     "source_hidden": true
    }
   },
   "outputs": [],
   "source": [
    "a"
   ]
  },
  {
   "cell_type": "code",
   "execution_count": null,
   "id": "03c2d262",
   "metadata": {
    "jupyter": {
     "source_hidden": true
    }
   },
   "outputs": [],
   "source": [
    "y = a.ravel()"
   ]
  },
  {
   "cell_type": "code",
   "execution_count": null,
   "id": "d544d38f",
   "metadata": {
    "jupyter": {
     "source_hidden": true
    }
   },
   "outputs": [],
   "source": [
    "y"
   ]
  },
  {
   "cell_type": "code",
   "execution_count": null,
   "id": "c37255fb",
   "metadata": {
    "jupyter": {
     "source_hidden": true
    }
   },
   "outputs": [],
   "source": [
    "y[0]=98"
   ]
  },
  {
   "cell_type": "code",
   "execution_count": null,
   "id": "7a5ed01e",
   "metadata": {
    "jupyter": {
     "source_hidden": true
    }
   },
   "outputs": [],
   "source": [
    "y"
   ]
  },
  {
   "cell_type": "code",
   "execution_count": null,
   "id": "86006a3f",
   "metadata": {
    "jupyter": {
     "source_hidden": true
    }
   },
   "outputs": [],
   "source": [
    "a"
   ]
  },
  {
   "cell_type": "code",
   "execution_count": null,
   "id": "5b5dcd96",
   "metadata": {
    "jupyter": {
     "source_hidden": true
    }
   },
   "outputs": [],
   "source": [
    "x"
   ]
  },
  {
   "cell_type": "code",
   "execution_count": null,
   "id": "0ff469c6",
   "metadata": {
    "jupyter": {
     "source_hidden": true
    }
   },
   "outputs": [],
   "source": [
    "y[0]=11"
   ]
  },
  {
   "cell_type": "code",
   "execution_count": null,
   "id": "1fff3932",
   "metadata": {
    "jupyter": {
     "source_hidden": true
    }
   },
   "outputs": [],
   "source": [
    "a"
   ]
  },
  {
   "cell_type": "code",
   "execution_count": null,
   "id": "9128edf3",
   "metadata": {
    "jupyter": {
     "source_hidden": true
    }
   },
   "outputs": [],
   "source": [
    "x"
   ]
  },
  {
   "cell_type": "code",
   "execution_count": null,
   "id": "4f4edae7",
   "metadata": {
    "jupyter": {
     "source_hidden": true
    }
   },
   "outputs": [],
   "source": [
    "a"
   ]
  },
  {
   "cell_type": "code",
   "execution_count": null,
   "id": "d307beb8",
   "metadata": {
    "jupyter": {
     "source_hidden": true
    }
   },
   "outputs": [],
   "source": [
    "a.reshape(3,4)"
   ]
  },
  {
   "cell_type": "code",
   "execution_count": null,
   "id": "1ce923ca",
   "metadata": {
    "jupyter": {
     "source_hidden": true
    }
   },
   "outputs": [],
   "source": [
    "a"
   ]
  },
  {
   "cell_type": "code",
   "execution_count": null,
   "id": "e910cc54",
   "metadata": {
    "jupyter": {
     "source_hidden": true
    }
   },
   "outputs": [],
   "source": [
    "a.resize(3,4)"
   ]
  },
  {
   "cell_type": "code",
   "execution_count": null,
   "id": "6ca2418b",
   "metadata": {
    "jupyter": {
     "source_hidden": true
    }
   },
   "outputs": [],
   "source": [
    "a"
   ]
  },
  {
   "cell_type": "code",
   "execution_count": null,
   "id": "a7c06248",
   "metadata": {
    "jupyter": {
     "source_hidden": true
    }
   },
   "outputs": [],
   "source": [
    "b = a.resize(2,6)"
   ]
  },
  {
   "cell_type": "code",
   "execution_count": null,
   "id": "664a7cde",
   "metadata": {
    "jupyter": {
     "source_hidden": true
    }
   },
   "outputs": [],
   "source": [
    "b"
   ]
  },
  {
   "cell_type": "code",
   "execution_count": null,
   "id": "4c1c81d2",
   "metadata": {
    "jupyter": {
     "source_hidden": true
    }
   },
   "outputs": [],
   "source": [
    "a"
   ]
  },
  {
   "cell_type": "code",
   "execution_count": null,
   "id": "06c7d50e",
   "metadata": {
    "jupyter": {
     "source_hidden": true
    }
   },
   "outputs": [],
   "source": [
    "b"
   ]
  },
  {
   "cell_type": "code",
   "execution_count": null,
   "id": "603106f2",
   "metadata": {
    "jupyter": {
     "source_hidden": true
    }
   },
   "outputs": [],
   "source": [
    "print(b)"
   ]
  },
  {
   "cell_type": "markdown",
   "id": "f55f2e32-ce41-4c63-a350-219c48ffd31d",
   "metadata": {
    "tags": []
   },
   "source": [
    "## Practice"
   ]
  },
  {
   "cell_type": "code",
   "execution_count": null,
   "id": "b9df7817-a3b8-46cc-bac2-cd1e9e281cae",
   "metadata": {
    "jupyter": {
     "source_hidden": true
    }
   },
   "outputs": [],
   "source": [
    "a = np.arange(12)\n",
    "print(a)\n",
    "x = a.flatten()\n",
    "print(x)\n",
    "x[0] = 98\n",
    "print(a)\n",
    "print(x)\n",
    "print(78*'*')\n",
    "\n",
    "a = np.arange(12)\n",
    "print(a)\n",
    "x = a.ravel()\n",
    "print(x)\n",
    "x[0] = 98\n",
    "print(a)\n",
    "print(x)\n",
    "print(78*'*')\n",
    "\n",
    "a = np.arange(12)\n",
    "x = a.reshape(3,4)\n",
    "x[0,0]=97\n",
    "print(a)\n",
    "print(x)\n",
    "print(78*'*')\n",
    "\n",
    "a = np.arange(12)\n",
    "print(a)\n",
    "x = a.resize(3,4)\n",
    "print(a)\n",
    "print(x)"
   ]
  },
  {
   "cell_type": "markdown",
   "id": "491a5a8a",
   "metadata": {
    "tags": []
   },
   "source": [
    "#  Copies and views (shallow/deep copy)"
   ]
  },
  {
   "cell_type": "code",
   "execution_count": null,
   "id": "361f3e3b",
   "metadata": {
    "tags": []
   },
   "outputs": [],
   "source": [
    "# b = a # no copy\n",
    "# c = a.view() # shallow copy\n",
    "# d = a.copy() # deep copy"
   ]
  },
  {
   "cell_type": "markdown",
   "id": "6c489f4d",
   "metadata": {
    "tags": []
   },
   "source": [
    "# Indexing with Boolean arrays"
   ]
  },
  {
   "cell_type": "code",
   "execution_count": null,
   "id": "ed20b6e4",
   "metadata": {
    "tags": []
   },
   "outputs": [],
   "source": [
    "a = np.arange(12)\n",
    "a_filter = a<5\n",
    "print(a_filter)"
   ]
  },
  {
   "cell_type": "code",
   "execution_count": null,
   "id": "021dcd44",
   "metadata": {
    "jupyter": {
     "source_hidden": true
    }
   },
   "outputs": [],
   "source": [
    "b = a[a_filter]\n",
    "print(b)"
   ]
  }
 ],
 "metadata": {
  "kernelspec": {
   "display_name": "Python 3",
   "language": "python",
   "name": "python3"
  },
  "language_info": {
   "codemirror_mode": {
    "name": "ipython",
    "version": 3
   },
   "file_extension": ".py",
   "mimetype": "text/x-python",
   "name": "python",
   "nbconvert_exporter": "python",
   "pygments_lexer": "ipython3",
   "version": "3.8.13"
  },
  "toc-autonumbering": false,
  "toc-showcode": false
 },
 "nbformat": 4,
 "nbformat_minor": 5
}
